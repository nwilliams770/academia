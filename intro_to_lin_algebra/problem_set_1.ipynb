{
 "cells": [
  {
   "cell_type": "markdown",
   "id": "1023a220-3ec8-42f5-a70d-9ff56cf3769a",
   "metadata": {},
   "source": [
    "# Problem Set 1\n"
   ]
  },
  {
   "cell_type": "markdown",
   "id": "8fa27646-7748-4e1d-a989-8cfbc8addebd",
   "metadata": {},
   "source": [
    "## 1.2"
   ]
  },
  {
   "cell_type": "markdown",
   "id": "f20dc2b9-738e-4ffd-8199-69c9d00d2b72",
   "metadata": {},
   "source": [
    "12."
   ]
  },
  {
   "cell_type": "markdown",
   "id": "809b8a6c-3c91-41d7-a3a0-40e3ffbec69f",
   "metadata": {},
   "source": [
    "$c = \\frac{\\mathbf{w} \\cdot \\mathbf{v}}{\\mathbf{v} \\cdot \\mathbf{v}}$\n",
    "\n",
    "$c = \\frac{\\mathbf{w} \\cdot \\mathbf{v}}{\\mathbf{v} \\cdot \\mathbf{v}} = \\frac{(1)(1) + (5)(1)}{(1)(1) + (1)(1)} = \\frac{6}{2} = 3$"
   ]
  },
  {
   "cell_type": "markdown",
   "id": "8ec26c8f-8afd-4ef2-8b17-55f3dadb22e8",
   "metadata": {},
   "source": [
    "23."
   ]
  },
  {
   "cell_type": "markdown",
   "id": "ae6a3c65-09d1-4887-a51e-94515d95eb50",
   "metadata": {},
   "source": [
    "$$\n",
    "\\cos \\beta = \\frac{w_1}{\\|\\mathbf{w}\\|} \\quad \\text{and} \\quad \\sin \\beta = \\frac{w_2}{\\|\\mathbf{w}\\|}.\n",
    "$$\n",
    "\n",
    "Then:\n",
    "\n",
    "$$\n",
    "\\cos(\\beta - \\alpha) = \\cos \\beta \\cos \\alpha + \\sin \\beta \\sin \\alpha\n",
    "$$\n",
    "\n",
    "Substituting:\n",
    "\n",
    "$$\n",
    "\\cos(\\beta - \\alpha) = \\frac{v_1 w_1}{\\|\\mathbf{v}\\| \\|\\mathbf{w}\\|} + \\frac{v_2 w_2}{\\|\\mathbf{v}\\| \\|\\mathbf{w}\\|}.\n",
    "$$\n",
    "\n",
    "This simplifies to (for non-unit vectors):\n",
    "\n",
    "$$\n",
    "\\cos(\\beta - \\alpha) = \\frac{\\mathbf{v} \\cdot \\mathbf{w}}{\\|\\mathbf{v}\\| \\|\\mathbf{w}\\|}.\n",
    "$$\n",
    "\n",
    "Finally, this is:\n",
    "\n",
    "$$\n",
    "\\cos \\theta \\quad \\text{because} \\quad \\beta - \\alpha = \\theta.\n",
    "$$"
   ]
  },
  {
   "cell_type": "markdown",
   "id": "7fa7f559-bd46-4fe9-9757-40471ab9b9bd",
   "metadata": {},
   "source": [
    "28."
   ]
  },
  {
   "cell_type": "markdown",
   "id": "cc97eb2a-9122-4f94-b483-fbe43d6f2785",
   "metadata": {},
   "source": [
    "$$\n",
    "\\mathbf{v} \\cdot \\mathbf{w} = 1 \\cdot x + 2 \\cdot y = 5\n",
    "$$\n",
    "simplifies to the:\n",
    "$$\n",
    "x + 2y = 5\n",
    "$$\n",
    "This equation represents a line in the $ xy $-plane, meaning all vectors $ \\mathbf{w} = (x, y) $ satisfying the condition lie along this line.\n",
    "\n",
    "To minimize the magnitude $ \\|\\mathbf{w}\\| $, the vector $ \\mathbf{w} $ must have no components orthogonal to $ \\mathbf{v} $. This ensures $ \\mathbf{w} $ lies along the direction of $ \\mathbf{v} $. \n",
    "\n",
    "Let $ \\mathbf{w} = k \\mathbf{v} $, where $ k $ is a scalar. Substituting into the dot product condition:\n",
    "$$\n",
    "\\mathbf{v} \\cdot \\mathbf{w} = \\mathbf{v} \\cdot (k \\mathbf{v}) = k (\\mathbf{v} \\cdot \\mathbf{v}) = 5\n",
    "$$\n",
    "\n",
    "\n",
    "Compute $ \\mathbf{v} \\cdot \\mathbf{v} $:\n",
    "$$\n",
    "\\mathbf{v} \\cdot \\mathbf{v} = 1^2 + 2^2 = 1 + 4 = 5\n",
    "$$\n",
    "\n",
    "Substitute:\n",
    "$$\n",
    "k \\cdot 5 = 5 \\quad \\Rightarrow \\quad k = 1\n",
    "$$\n",
    "\n",
    "Thus, the shortest $ \\mathbf{w} $ is:\n",
    "$$\n",
    "\\mathbf{w} = k \\mathbf{v} = 1 \\cdot (1, 2) = (1, 2)\n",
    "$$\n",
    "\n",
    "\n",
    "The shortest $ \\mathbf{w} $ is:\n",
    "$$\n",
    "\\mathbf{w} = (1, 2)\n",
    "$$\n",
    "This vector satisfies $ \\mathbf{v} \\cdot \\mathbf{w} = 5 $ and has the smallest possible magnitude."
   ]
  },
  {
   "cell_type": "markdown",
   "id": "23d6110e-9e35-4404-a10a-6c8165238b53",
   "metadata": {},
   "source": [
    "## 1.3"
   ]
  },
  {
   "cell_type": "markdown",
   "id": "9ad5a812-4b2b-484b-9a96-4fc6ebfbc954",
   "metadata": {},
   "source": [
    "4."
   ]
  },
  {
   "cell_type": "markdown",
   "id": "981042ea-c726-4767-bad6-a54f944eef32",
   "metadata": {},
   "source": [
    "Because we are looking for other non-zero solutions to the system of equations, the vectors are dependent e.g. they all lie on a plane.\n",
    "\n",
    "\n",
    "Substituting $x_1 = 1$ into the equation:\n",
    "$$\n",
    "\\begin{bmatrix} 1 \\\\ 2 \\\\ 3 \\end{bmatrix} \n",
    "+ x_2 \\begin{bmatrix} 4 \\\\ 5 \\\\ 6 \\end{bmatrix} \n",
    "+ x_3 \\begin{bmatrix} 7 \\\\ 8 \\\\ 9 \\end{bmatrix} = \\begin{bmatrix} 0 \\\\ 0 \\\\ 0 \\end{bmatrix}\n",
    "$$\n",
    "\n",
    "\n",
    "This gives the system of equations:\n",
    "1. $1 + 4x_2 + 7x_3 = 0$\n",
    "2. $2 + 5x_2 + 8x_3 = 0$\n",
    "3. $3 + 6x_2 + 9x_3 = 0$\n",
    "\n",
    "\n",
    "The solution is:\n",
    "$$\n",
    "\\mathbf{w}_1 - 2\\mathbf{w}_2 + \\mathbf{w}_3 = \\mathbf{0}\n",
    "$$"
   ]
  },
  {
   "cell_type": "markdown",
   "id": "68fdad62-5b1b-44a7-bcc3-6a70ec34f673",
   "metadata": {},
   "source": [
    "6."
   ]
  },
  {
   "cell_type": "markdown",
   "id": "034a0746-4930-4b8e-81c8-c2af4886571d",
   "metadata": {},
   "source": [
    "\\begin{bmatrix}\n",
    "1 & 1 & 0 \\\\\n",
    "3 & 2 & 1 \\\\\n",
    "7 & 4 & c\n",
    "\\end{bmatrix}\n",
    "\n",
    "$c$ gives dependent columns when $c=3$. \n",
    "\n",
    "\\begin{bmatrix}\n",
    "1 & 0 & c \\\\\n",
    "1 & 1 & 0 \\\\\n",
    "0 & 1 & 1\n",
    "\\end{bmatrix}\n",
    "\n",
    "$c$ gives dependent columns when $c=-1$.\n",
    "\n",
    "\\begin{bmatrix}\n",
    "c & c & c \\\\\n",
    "2 & 1 & 5 \\\\\n",
    "3 & 3 & 6\n",
    "\\end{bmatrix}\n",
    "\n",
    "$c$ gives dependent columns when $c=0$."
   ]
  },
  {
   "cell_type": "markdown",
   "id": "519e73cb-86dc-42a2-aa8d-a766ed21c8b2",
   "metadata": {},
   "source": [
    "11."
   ]
  },
  {
   "cell_type": "markdown",
   "id": "3313420c-d26f-4dee-8a46-db417d88ae25",
   "metadata": {},
   "source": [
    "$$ \\Delta f(t) = f(t+1) - f(t) $$ \n",
    "$$ (t+1)^2 + t^2 $$\n",
    "$$ t^2 + 2t + 1 - t^2 $$\n",
    "$$ 2t + 1  \\quad \\text{all odd numbers!} $$"
   ]
  },
  {
   "cell_type": "markdown",
   "id": "8c76a667-d3b9-4fe5-ba9b-31964a18375c",
   "metadata": {},
   "source": [
    "13."
   ]
  },
  {
   "cell_type": "markdown",
   "id": "579a8d46-99f6-4da7-8282-4f99ba9a7407",
   "metadata": {},
   "source": [
    "Centered difference matrix is:\n",
    "$$\n",
    "C = \n",
    "\\begin{bmatrix}\n",
    "0 & 1 & 0 & 0 & 0 \\\\\n",
    "-1 & 0 & 1 & 0 & 0 \\\\\n",
    "0 & -1 & 0 & 1 & 0 \\\\\n",
    "0 & 0 & -1 & 0 & 1 \\\\\n",
    "0 & 0 & 0 & -1 & 0\n",
    "\\end{bmatrix}\n",
    "$$\n",
    "\n",
    "Let:\n",
    "$$\n",
    "\\mathbf{x} = \\begin{bmatrix} x_1 \\\\ x_2 \\\\ x_3 \\\\ x_4 \\\\ x_5 \\end{bmatrix}, \\quad\n",
    "\\mathbf{b} = \\begin{bmatrix} b_1 \\\\ b_2 \\\\ b_3 \\\\ b_4 \\\\ b_5 \\end{bmatrix}\n",
    "$$\n",
    "\n",
    "The system $C \\mathbf{x} = \\mathbf{b}$ expands to the following equations:\n",
    "\n",
    "1. $$ b_1 = x_2 $$\n",
    "2. $$ b_2 = x_3 - x_1 $$\n",
    "3. $$ b_3 = x_4 - x_2 $$\n",
    "4. $$ b_4 = x_5 - x_3 $$\n",
    "5. $$ b_5 = -x_4 $$\n",
    "\n",
    "Solving for the equations we see that $$ b_1 + b_3 + b_5 = 0 $$\n"
   ]
  },
  {
   "cell_type": "markdown",
   "id": "8fee6809-11be-448b-9894-f20785563021",
   "metadata": {},
   "source": [
    "## 2.1"
   ]
  },
  {
   "cell_type": "markdown",
   "id": "465bbeb6-b884-4df2-b9ff-38a47940870a",
   "metadata": {},
   "source": [
    "6."
   ]
  },
  {
   "cell_type": "markdown",
   "id": "dd73bd8f-4d81-493e-85a5-591af8b6b7bf",
   "metadata": {},
   "source": [
    "The shifted third plane no longer contains the line $\\mathbf{L}$ formed by the intersection of the other two planes."
   ]
  },
  {
   "cell_type": "markdown",
   "id": "cfd0e328-c84c-4193-b2de-81339d49c079",
   "metadata": {},
   "source": [
    "12."
   ]
  },
  {
   "cell_type": "markdown",
   "id": "2736a298-ca86-445e-b9ad-10a63c83e270",
   "metadata": {},
   "source": [
    "\\begin{bmatrix}\n",
    "z & y & x \\\\\n",
    "\\end{bmatrix}\n",
    "\n",
    "\\begin{bmatrix}\n",
    "0 & 0 & 0 \\\\\n",
    "\\end{bmatrix}\n",
    "\n",
    "\\begin{bmatrix}\n",
    "3 \\\\\n",
    "3 \\\\\n",
    "6 \\\\\n",
    "\\end{bmatrix}"
   ]
  },
  {
   "cell_type": "markdown",
   "id": "ba9da267-e129-4c54-9518-99f175c17ba3",
   "metadata": {},
   "source": [
    "14."
   ]
  },
  {
   "cell_type": "markdown",
   "id": "ad16345d-f957-4693-a83c-2f56f9d81368",
   "metadata": {},
   "source": [
    "$$ 2x + 3y + z + 5t = 8 $$ \n",
    "written as a matrix becomes a single row matrix:\n",
    "\\begin{bmatrix}\n",
    "2 & 3 & 1 & 5 \\\\\n",
    "\\end{bmatrix}"
   ]
  },
  {
   "cell_type": "markdown",
   "id": "83970d4e-a5dd-44b5-9c03-18924554c2b1",
   "metadata": {},
   "source": [
    "29."
   ]
  },
  {
   "cell_type": "markdown",
   "id": "a3f4a08e-8313-4006-ad57-65b4d92356ac",
   "metadata": {},
   "source": [
    "$$\n",
    "u_0 = \\begin{bmatrix} 1 \\\\ 0 \\end{bmatrix}\n",
    "$$\n",
    "\n",
    "$$\n",
    "u_1 = A u_0 = \\begin{bmatrix} 0.8 & 0.3 \\\\ 0.2 & 0.7 \\end{bmatrix} \\begin{bmatrix} 1 \\\\ 0 \\end{bmatrix} = \\begin{bmatrix} 0.8 \\\\ 0.2 \\end{bmatrix}\n",
    "$$\n",
    "\n",
    "$$\n",
    "u_2 = A u_1 = \\begin{bmatrix} 0.8 & 0.3 \\\\ 0.2 & 0.7 \\end{bmatrix} \\begin{bmatrix} 0.8 \\\\ 0.2 \\end{bmatrix} = \\begin{bmatrix} (0.8)(0.8) + (0.3)(0.2) \\\\ (0.2)(0.8) + (0.7)(0.2) \\end{bmatrix} = \\begin{bmatrix} 0.7 \\\\ 0.3 \\end{bmatrix}\n",
    "$$\n",
    "\n",
    "$$\n",
    "u_3 = A u_2 = \\begin{bmatrix} 0.8 & 0.3 \\\\ 0.2 & 0.7 \\end{bmatrix} \\begin{bmatrix} 0.7 \\\\ 0.3 \\end{bmatrix} = \\begin{bmatrix} (0.8)(0.7) + (0.3)(0.3) \\\\ (0.2)(0.7) + (0.7)(0.3) \\end{bmatrix} = \\begin{bmatrix} 0.65 \\\\ 0.35 \\end{bmatrix}\n",
    "$$\n",
    "\n",
    "The sum of the components of the vector are preserved. The weights of each component are redistributed each operation."
   ]
  },
  {
   "cell_type": "markdown",
   "id": "a3913d79-38cb-4015-850a-2471d1be5ac3",
   "metadata": {},
   "source": [
    "30."
   ]
  },
  {
   "cell_type": "code",
   "execution_count": 3,
   "id": "cd920620-7c84-4f2b-9485-b2607f44a7e0",
   "metadata": {},
   "outputs": [
    {
     "data": {
      "image/png": "[encoded data removed]",
      "text/plain": [
       "<Figure size 640x480 with 1 Axes>"
      ]
     },
     "metadata": {},
     "output_type": "display_data"
    },
    {
     "name": "stdout",
     "output_type": "stream",
     "text": [
      "Correct Steady-state vector: [0.6 0.4]\n"
     ]
    }
   ],
   "source": [
    "import numpy as np\n",
    "import matplotlib.pyplot as plt\n",
    "\n",
    "A = np.array([[0.8, 0.3], [0.2, 0.7]])\n",
    "\n",
    "u = np.array([1, 0])\n",
    "v = np.array([0, 1])\n",
    "\n",
    "u_values = [u]\n",
    "v_values = [v]\n",
    "\n",
    "for _ in range(7):\n",
    "    u = u @ A\n",
    "    v = v @ A\n",
    "\n",
    "    u_values.append(u)\n",
    "    v_values.append(v)\n",
    "\n",
    "u_values = np.array(u_values)\n",
    "v_values = np.array(v_values)\n",
    "\n",
    "x = np.arange(8)\n",
    "\n",
    "plt.plot(x, u_values[:, 0], label=\"u_1 (first component)\")\n",
    "plt.plot(x, u_values[:, 1], label=\"u_2 (second component)\")\n",
    "\n",
    "plt.plot(x, v_values[:, 0], label=\"v_1 (first component)\")\n",
    "plt.plot(x, v_values[:, 1], label=\"v_2 (second component)\")\n",
    "\n",
    "plt.xlabel(\"Iteration (k)\")\n",
    "plt.ylabel(\"Component Values\")\n",
    "plt.title(\"Convergence of u and v to Steady State\")\n",
    "plt.legend()\n",
    "plt.grid()\n",
    "plt.show()\n",
    "\n",
    "row_sums = A.sum(axis=1)\n",
    "s = np.array([row_sums[1], row_sums[0]]) / row_sums.sum()\n",
    "\n",
    "# Find the eigenvalues and eigenvectors of A\n",
    "eigenvalues, eigenvectors = np.linalg.eig(A)\n",
    "\n",
    "# Find the eigenvector corresponding to eigenvalue 1\n",
    "steady_state_index = np.isclose(eigenvalues, 1)  # Locate eigenvalue close to 1\n",
    "steady_state_vector = eigenvectors[:, steady_state_index].flatten().real  # Extract real part\n",
    "\n",
    "# Normalize the steady-state vector so its entries sum to 1\n",
    "steady_state_vector /= steady_state_vector.sum()\n",
    "\n",
    "print(\"Correct Steady-state vector:\", steady_state_vector)"
   ]
  },
  {
   "cell_type": "markdown",
   "id": "d68ccbed-7f16-4b0b-8e1b-4defb49b864c",
   "metadata": {},
   "source": [
    "## 2.2"
   ]
  },
  {
   "cell_type": "markdown",
   "id": "9787bc37-0d87-47f9-82eb-85add0d599cd",
   "metadata": {},
   "source": [
    "5."
   ]
  },
  {
   "cell_type": "markdown",
   "id": "5fa84d1e-2110-4980-b386-447729f8cc9b",
   "metadata": {},
   "source": [
    "For infinitely many solutions the right side must match the scaled right hand side of the first equation so it must be $20$ which yields the following after elimination:\n",
    "$$ 0x + 0y = 0 $$\n",
    "\n",
    "For no solution the right hand side must yield a contradiction after elimination thus any number $>20$ will do."
   ]
  },
  {
   "cell_type": "markdown",
   "id": "f103b6b7-03d5-4c08-8722-b26c63ec683d",
   "metadata": {},
   "source": [
    "6."
   ]
  },
  {
   "cell_type": "markdown",
   "id": "f482deae-056d-4f34-8139-ab77c85faab5",
   "metadata": {},
   "source": [
    "For the system to be singular, the second equation must be a multiple of the first therefore $b=4$\n",
    "In order to not introduce a contradiction with the system as singular, g must have the some proportionality as the coefficients in the second equation therefore $g=32$"
   ]
  },
  {
   "cell_type": "markdown",
   "id": "89b7e654-5a6f-4028-b24a-19ae37fe7d8a",
   "metadata": {},
   "source": [
    "9."
   ]
  },
  {
   "cell_type": "markdown",
   "id": "3dd6f6c9-8c1e-46fb-a3c5-40a2bbefdc8c",
   "metadata": {},
   "source": [
    "For the system to the solvable, we must ensure that proportional relationship between $b_1$ and $b_2$ equals that of the coefficients of the equation e.g. $2b_1 = b_2$"
   ]
  },
  {
   "cell_type": "markdown",
   "id": "b91840ac-55c3-478d-90cc-8e4ef1d3f28e",
   "metadata": {},
   "source": [
    "12."
   ]
  },
  {
   "cell_type": "markdown",
   "id": "13cc44ee-81c2-4858-b5a4-eb963da7cc34",
   "metadata": {},
   "source": [
    "Perform 2 elimination operations to reduce the system to upper triangle. The first pivot is $2x$ and the second is $7y$. Using back substitution the solution is $x=2, y=1, z=1$"
   ]
  },
  {
   "cell_type": "markdown",
   "id": "84211194-b15e-46bd-ba4c-afbacce23aea",
   "metadata": {},
   "source": [
    "20."
   ]
  },
  {
   "cell_type": "markdown",
   "id": "c8933565-a291-4f81-8b1f-8e166e89b30b",
   "metadata": {},
   "source": [
    "The system is singular if row 3 of A is a linear combination of the first two rows.\n",
    "\n",
    "To make the system singular, $r_3$ must be a **linear combination** of $r_1$ and $r_2$, such that:\n",
    "$$\n",
    "r_3 = a \\cdot r_1 + b \\cdot r_2\n",
    "$$\n",
    "\n",
    "Given:\n",
    "$$\n",
    "r_1 = (1, 1, 1), \\quad r_2 = (1, -2, -1)\n",
    "$$\n",
    "\n",
    "Compute each component:\n",
    "- **For $x_3$:**\n",
    "  $$\n",
    "  x_3 = a \\cdot 1 + b \\cdot 1 = a + b\n",
    "  $$\n",
    "- **For $y_3$:**\n",
    "  $$\n",
    "  y_3 = a \\cdot 1 + b \\cdot (-2) = a - 2b\n",
    "  $$\n",
    "- **For $z_3$:**\n",
    "  $$\n",
    "  z_3 = a \\cdot 1 + b \\cdot (-1) = a - b\n",
    "  $$\n",
    "\n",
    "Thus, the left-hand side of $r_3$ is:\n",
    "$$\n",
    "r_3 = (a + b, a - 2b, a - b)\n",
    "$$\n",
    "\n",
    "The right-hand side of $r_3$ (denoted as $c_3$) must also align with the linear combination of the right-hand sides of $r_1$ and $r_2$:\n",
    "$$\n",
    "c_3 = a \\cdot c_1 + b \\cdot c_2\n",
    "$$\n",
    "where $c_1 = 0$ and $c_2 = 1$.\n",
    "\n",
    "Thus:\n",
    "$$\n",
    "c_3 = a \\cdot 0 + b \\cdot 1 = b\n",
    "$$"
   ]
  },
  {
   "cell_type": "markdown",
   "id": "e81016d8-cc49-4380-b281-1792b8e90c1b",
   "metadata": {},
   "source": [
    "32."
   ]
  },
  {
   "cell_type": "markdown",
   "id": "ac5ecd16-1f15-4eee-ad12-e141b5d44bed",
   "metadata": {},
   "source": [
    "a. Some linear combination of the rows is 0.\n",
    "b. Some linear combination of the columns is 0."
   ]
  },
  {
   "cell_type": "markdown",
   "id": "37c07b33-00c9-4e19-8672-3451a51e50cd",
   "metadata": {},
   "source": [
    "## 2.3"
   ]
  },
  {
   "cell_type": "markdown",
   "id": "1fdc971a-1ec7-4cc5-a702-cd37a6ebff62",
   "metadata": {},
   "source": [
    "4."
   ]
  },
  {
   "cell_type": "markdown",
   "id": "6574cac7-53a2-45da-905e-841ab787ff38",
   "metadata": {},
   "source": [
    "\n",
    "$E_{21} = $\n",
    "\\begin{bmatrix}\n",
    "1 & 0 & 0 \\\\\n",
    "-4 & 1 & 0 \\\\\n",
    "0 & 0 & 1\n",
    "\\end{bmatrix},\n",
    "\n",
    "$E_{31} = $\n",
    "\\begin{bmatrix}\n",
    "1 & 0 & 0 \\\\\n",
    "0 & 1 & 0 \\\\\n",
    "2 & 0 & 1\n",
    "\\end{bmatrix},\n",
    "\n",
    "\n",
    "$E_{32} = $\n",
    "\\begin{bmatrix}\n",
    "1 & 0 & 0 \\\\\n",
    "0 & 1 & 0 \\\\\n",
    "0 & -\\frac{1}{3} & 1\n",
    "\\end{bmatrix}.\n",
    "\n",
    "\n",
    "$ M = E_{32} E_{31} E_{21} =$\n",
    "\\begin{bmatrix}\n",
    "1 & 0 & 0 \\\\\n",
    "-4 & 1 & 0 \\\\\n",
    "2 & -\\frac{1}{3} & 1\n",
    "\\end{bmatrix}.\n"
   ]
  },
  {
   "cell_type": "markdown",
   "id": "d05542a3-f9d3-479a-92ac-fe3c9fbf6527",
   "metadata": {},
   "source": [
    "7."
   ]
  },
  {
   "cell_type": "markdown",
   "id": "64b83160-1f2d-4be9-a327-3bca66cb764e",
   "metadata": {},
   "source": [
    "a. To invert that step you should add 7 times row 1 to row 3.\n",
    "\n",
    "b.\n",
    "$E^{-1} = $\n",
    "\\begin{bmatrix}\n",
    "1 & 0 & 0 \\\\\n",
    "0 & 1 & 0 \\\\\n",
    "7 & 0 & 1\n",
    "\\end{bmatrix}."
   ]
  },
  {
   "cell_type": "markdown",
   "id": "3adc3044-f477-4452-bed0-dfd1ac4944e2",
   "metadata": {},
   "source": [
    "10."
   ]
  },
  {
   "cell_type": "markdown",
   "id": "46960171-1eaf-45e9-9eba-7be41062c2c9",
   "metadata": {},
   "source": [
    "a.\n",
    "\\begin{bmatrix}\n",
    "1 & 0 & 1 \\\\\n",
    "0 & 1 & 0 \\\\\n",
    "0 & 0 & 1\n",
    "\\end{bmatrix}.\n",
    "\n",
    "b.\n",
    "\\begin{bmatrix}\n",
    "1 & 0 & 1 \\\\\n",
    "0 & 1 & 0 \\\\\n",
    "1 & 0 & 1\n",
    "\\end{bmatrix}.\n",
    "\n",
    "c.\n",
    "First add row 1 to row 3:\n",
    "\\begin{bmatrix}\n",
    "1 & 0 & 1 \\\\\n",
    "0 & 1 & 0 \\\\\n",
    "0 & 0 & 1\n",
    "\\end{bmatrix}.\n",
    "\n",
    "Then add row 3 to row 1:\n",
    "\\begin{bmatrix}\n",
    "1 & 0 & 0 \\\\\n",
    "0 & 1 & 0 \\\\\n",
    "1 & 0 & 1\n",
    "\\end{bmatrix}."
   ]
  },
  {
   "cell_type": "markdown",
   "id": "77e5863b-0b36-4e90-8a42-41aec96cc977",
   "metadata": {},
   "source": [
    "22."
   ]
  },
  {
   "cell_type": "markdown",
   "id": "53c0e9e6-bd49-4c15-a522-f436ef858569",
   "metadata": {},
   "source": [
    "a. $$ (A x)_3 = \\sum_{j=1}^n a_{3j} x_j $$\n",
    "b. $$ \\sum_{j=1}^n a_{2j} e_j - \\sum_{j=1}^n a_{j} e_j $$  \n",
    "c. $$ (\\sum_{j=1}^n a_{2j} e_j - \\sum_{j=1}^n a_{j} e_j) - \\sum_{j=1}^n a_{2j} e_j - \\sum_{j=1}^n a_{j} e_j $$\n",
    "d. $$ (E x)_3 = \\sum_{j=1}^n e_{1j} x_j $$"
   ]
  },
  {
   "cell_type": "markdown",
   "id": "816e57d5-ad30-4dfa-9ee8-f1df5c968f34",
   "metadata": {},
   "source": [
    "29."
   ]
  },
  {
   "cell_type": "markdown",
   "id": "e3f22a80-ffe6-443a-8e5a-242812d6ba0d",
   "metadata": {},
   "source": [
    "\\begin{bmatrix}\n",
    "1 & 0 & 0 & 0\\\\\n",
    "-1 & 1 & 0 & 0\\\\\n",
    "-1 & 0 & 1 & 0\\\\\n",
    "-1 & 0 & 0 & 1\n",
    "\\end{bmatrix}."
   ]
  },
  {
   "cell_type": "markdown",
   "id": "5e83680d-6761-4a3d-9d08-a7f5a760b609",
   "metadata": {},
   "source": [
    "## 2.4"
   ]
  },
  {
   "cell_type": "markdown",
   "id": "472786b0-4e71-4682-bbac-115f5c76669c",
   "metadata": {},
   "source": [
    "5."
   ]
  },
  {
   "cell_type": "markdown",
   "id": "5c8dd06e-08db-4b2c-8a2e-214edd7a4bba",
   "metadata": {},
   "source": [
    "$$\n",
    "A^2 = \\begin{bmatrix} 1 & 2b \\\\ 0 & 1 \\end{bmatrix}\n",
    "$$\n",
    "\n",
    "$$\n",
    "A^n = \\begin{bmatrix} 1 & 2n \\\\ 0 & 1 \\end{bmatrix}\n",
    "$$\n",
    "\n",
    "$$\n",
    "A^2 = \\begin{bmatrix} 4 & 4 \\\\ 0 & 0 \\end{bmatrix}\n",
    "$$\n",
    "\n",
    "$$\n",
    "A^n = \\begin{bmatrix} 2^n & 2^n \\\\ 0 & 0 \\end{bmatrix}\n",
    "$$"
   ]
  },
  {
   "cell_type": "markdown",
   "id": "c29f445b-20ac-44e5-aa02-29730e7840bf",
   "metadata": {},
   "source": [
    "6."
   ]
  },
  {
   "cell_type": "markdown",
   "id": "877047df-7eb9-40b7-b170-d48004e04d9f",
   "metadata": {},
   "source": [
    "$(A + B)^2$ does not equal $A^2 + 2AB + B^2$ because in matrix multiplication the commutative law is usually broken.\n",
    "$(A + B)^2$ expands to $A^2 + AB + BA + A^2$ where $AB \\neq BA$ (usually)."
   ]
  },
  {
   "cell_type": "markdown",
   "id": "4d32587e-560c-4457-8151-daa4a648c837",
   "metadata": {},
   "source": [
    "9."
   ]
  },
  {
   "cell_type": "markdown",
   "id": "f0a73a98-f666-4fef-900f-d8fa7699cef1",
   "metadata": {},
   "source": [
    "a.\n",
    "$$\n",
    "\\begin{bmatrix} a & b \\\\ c & d \\end{bmatrix} \\begin{bmatrix} 1 & 1 \\\\ 0 & 1 \\end{bmatrix} = \\begin{bmatrix} a & a+b \\\\ c & c+d \\end{bmatrix}\n",
    "$$\n",
    "$$\n",
    "\\begin{bmatrix} 1 & 0 \\\\ 1 & 1 \\end{bmatrix} \\begin{bmatrix} a & a+b \\\\ c & c+d \\end{bmatrix} = \\begin{bmatrix} a & a+b \\\\ a+c & a+b+c+d \\end{bmatrix}\n",
    "$$\n",
    "\n",
    "b. Matrix multiplication obeys the associative law."
   ]
  },
  {
   "cell_type": "markdown",
   "id": "278f051d-73b9-4282-b591-fb75a893257b",
   "metadata": {},
   "source": [
    "10."
   ]
  },
  {
   "cell_type": "markdown",
   "id": "9f8b5198-5597-4577-b075-4a8518c0d3d7",
   "metadata": {},
   "source": [
    "$$\n",
    "\\begin{bmatrix} 1 & 0 \\\\ 1 & 1 \\end{bmatrix} \\begin{bmatrix} a+c & b+d \\\\ c & d \\end{bmatrix} = \\begin{bmatrix} a+c & b+d \\\\ a+2c & b+2d \\end{bmatrix}\n",
    "$$\n",
    "\n",
    "Matrix multiplication does not obey the associative law."
   ]
  },
  {
   "cell_type": "markdown",
   "id": "c3cdf802-c636-4543-b1b2-97545e685820",
   "metadata": {},
   "source": [
    "32."
   ]
  },
  {
   "cell_type": "markdown",
   "id": "2894f766-2d5b-41f2-aee4-afc81fc9867b",
   "metadata": {},
   "source": [
    "$x_1, x_2, x_3$ in combination invert $A$ and thus the resulting matrix of %AX$ would be the identity matrix."
   ]
  },
  {
   "cell_type": "markdown",
   "id": "61e01a1b-6848-463e-b2a0-2e773734749e",
   "metadata": {},
   "source": [
    "## 2.5"
   ]
  },
  {
   "cell_type": "markdown",
   "id": "10281820-772b-4fdc-adb3-51658cbe0bb7",
   "metadata": {},
   "source": [
    "2."
   ]
  },
  {
   "cell_type": "markdown",
   "id": "4f15bae0-2e55-46f8-9aad-09c0e0aa176b",
   "metadata": {},
   "source": [
    "$$\n",
    "P_1 = \\begin{bmatrix}\n",
    "0 & 0 & 1 \\\\\n",
    "0 & 1 & 0 \\\\\n",
    "1 & 0 & 0\n",
    "\\end{bmatrix}\n",
    "$$\n",
    "\n",
    "$$\n",
    "P_1^{-1} = \\begin{bmatrix}\n",
    "0 & 0 & 1 \\\\\n",
    "0 & 1 & 0 \\\\\n",
    "1 & 0 & 0\n",
    "\\end{bmatrix}\n",
    "$$\n",
    "\n",
    "$$\n",
    "P_2 = \\begin{bmatrix}\n",
    "0 & 1 & 0 \\\\\n",
    "0 & 0 & 1 \\\\\n",
    "1 & 0 & 0\n",
    "\\end{bmatrix}\n",
    "$$\n",
    "\n",
    "$$\n",
    "P_2^{-1} = \\begin{bmatrix}\n",
    "0 & 0 & 1 \\\\\n",
    "1 & 0 & 0 \\\\\n",
    "0 & 1 & 0\n",
    "\\end{bmatrix}\n",
    "$$\n",
    "\n"
   ]
  },
  {
   "cell_type": "markdown",
   "id": "00f0c6ac-a61b-4309-a035-7e820fa9bc7d",
   "metadata": {},
   "source": [
    "6."
   ]
  },
  {
   "cell_type": "markdown",
   "id": "beba065d-a7bc-4731-9684-2426b6b077e4",
   "metadata": {},
   "source": [
    "a.\n",
    "\\begin{align}\n",
    "AB = BC \\\\\n",
    "A^{-1}AB = A^{-1}BC \\\\\n",
    "B = C \\\\\n",
    "\\end{align}\n"
   ]
  },
  {
   "cell_type": "markdown",
   "id": "def3dfe0-2d58-4e25-8b7e-78477cb32382",
   "metadata": {},
   "source": [
    "7."
   ]
  },
  {
   "cell_type": "markdown",
   "id": "a7dffb40-8265-45ae-a532-3cde955b9076",
   "metadata": {},
   "source": [
    "a.\n",
    "When adding row 1 and row 2 to yield row 3, we also add the right hand sides. Based on the aforementioned dependence when the components $b = (0, 0, 1)$ is summed, we get a contradiction $0 + 0 = 1$. This solution for $b$ is not compatible with the dependency between the rows. \n",
    "\n",
    "b.\n",
    "For $Ax = b$ to have solution, $b$ must have the same linear dependency as the rows. Therefore any solution must yield a $b$ such that $b_1 + b_2 = b+3$.\n",
    "\n",
    "c.\n",
    "As we eliminate the rows to achieve the upper triangle shape, by the time we will get to row 3, we will have eliminated all values from row 3 and it will be all 0s e.g. there will be no third pivot. This is because row 3 is just a combination of rows 1 and 2 (row 1 + row 2 = row 3)."
   ]
  },
  {
   "cell_type": "markdown",
   "id": "01a10ef8-0db2-46c6-a370-fca862b75b36",
   "metadata": {},
   "source": [
    "12."
   ]
  },
  {
   "cell_type": "markdown",
   "id": "7979987f-aea0-4659-b8c0-c6d794737020",
   "metadata": {},
   "source": [
    "\\begin{align}\n",
    "C = AB \\\\\n",
    "I = ABC^{-1} \\\\\n",
    "A^{-1}=BC^{-1} \\\\\n",
    "\\end{align}"
   ]
  }
 ],
 "metadata": {
  "kernelspec": {
   "display_name": "Python (venv)",
   "language": "python",
   "name": "venv"
  },
  "language_info": {
   "codemirror_mode": {
    "name": "ipython",
    "version": 3
   },
   "file_extension": ".py",
   "mimetype": "text/x-python",
   "name": "python",
   "nbconvert_exporter": "python",
   "pygments_lexer": "ipython3",
   "version": "3.13.0"
  }
 },
 "nbformat": 4,
 "nbformat_minor": 5
}
