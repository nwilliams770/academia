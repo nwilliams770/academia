{
 "cells": [
  {
   "cell_type": "markdown",
   "id": "9d57e069-4914-42e9-9110-977bda5a8c3e",
   "metadata": {},
   "source": [
    "# Problem Set 3"
   ]
  },
  {
   "cell_type": "markdown",
   "id": "bfa11b0b-4bc3-472e-8b3d-5f4daef16028",
   "metadata": {},
   "source": [
    "## 3.2"
   ]
  },
  {
   "cell_type": "markdown",
   "id": "ace6259a-4aad-4388-88f2-b994d6795270",
   "metadata": {},
   "source": [
    "18."
   ]
  },
  {
   "cell_type": "markdown",
   "id": "1424ae6d-9f88-4ff7-b46c-c2edc63f5d0e",
   "metadata": {},
   "source": [
    "The presence of 2 vectors spanning the column space indicates that there are 2 pivot columns in the matrix $A$, giving it a rank of 2. Additionally, the presence of 2 vectors spanning the null space implies that there are 2 free variables in the row-reduced echelon form of $A$.\n",
    "\n",
    "However, for a $3 \\times 3$ matrix, the rank-nullity theorem states:\n",
    "$$\n",
    "\\text{rank} + \\text{nullity} = \\text{columns}.\n",
    "$$\n",
    "Substituting $\\text{rank} = 2$ and $\\text{nullity} = 2$, we get:\n",
    "$$\n",
    "3 = 2 + 2,\n",
    "$$\n",
    "which is a contradiction. This inconsistency means no such $3 \\times 3$ matrix exists that satisfies both the column space and null space requirements simultaneously.\n",
    "\n"
   ]
  },
  {
   "cell_type": "markdown",
   "id": "415f5b4c-d0f6-46e6-b31a-7dc36d826f1d",
   "metadata": {},
   "source": [
    "20."
   ]
  },
  {
   "cell_type": "markdown",
   "id": "72aba0ef-3550-4f52-a334-b5403f7fbccb",
   "metadata": {},
   "source": [
    "$\\mathbf{C}(A) = \\mathbf{N}(A)$\n",
    "\n",
    "when $A=$\n",
    "\\begin{bmatrix}\n",
    "0 & 1 \\\\\n",
    "0 & 0\n",
    "\\end{bmatrix}\n",
    "\n",
    "or $A=$\n",
    "\\begin{bmatrix}\n",
    "0 & 0 \\\\\n",
    "0 & 0\n",
    "\\end{bmatrix}"
   ]
  },
  {
   "cell_type": "markdown",
   "id": "0656ce92-061b-43e2-b7f3-e4ea38abd1a4",
   "metadata": {},
   "source": [
    "24."
   ]
  },
  {
   "cell_type": "markdown",
   "id": "0aeb5ede-2873-4e01-bdc4-8518caad1633",
   "metadata": {},
   "source": [
    "a. $A$ and $A^T$ have the same nullspace.  \n",
    "$$ A = \\begin{bmatrix} 0 & 1 \\\\ 0 & 0 \\end{bmatrix}, \\quad A^T = \\begin{bmatrix} 0 & 0 \\\\ 1 & 0 \\end{bmatrix}. $$  \n",
    "- Nullspace of $A$: $\\text{Span}\\left(\\begin{bmatrix} 1 \\\\ 0 \\end{bmatrix}\\right)$.  \n",
    "- Nullspace of $A^T$: $\\text{Span}\\left(\\begin{bmatrix} 0 \\\\ 1 \\end{bmatrix}\\right)$.  \n",
    "Nullspaces differ\n",
    "\n",
    "b. $A$ and $A^T$ have the same free variables.  \n",
    "$$ A = \\begin{bmatrix} 0 & 1 \\\\ 0 & 0 \\end{bmatrix}, \\quad A^T = \\begin{bmatrix} 0 & 0 \\\\ 1 & 0 \\end{bmatrix}. $$  \n",
    "- In $A$, the free variable is $x_1$.  \n",
    "- In $A^T$, the free variable is $x_2$.  \n",
    "Free variables differ\n",
    "\n",
    "c. If $R$ is the reduced form $\\text{rref}(A)$, then $R^T = \\text{rref}(A^T)$.  \n",
    "$$ A = \\begin{bmatrix} 0 & 1 \\\\ 0 & 0 \\end{bmatrix}, \\quad A^T = \\begin{bmatrix} 0 & 0 \\\\ 1 & 0 \\end{bmatrix}. $$  \n",
    "- $\\text{rref}(A) = \\begin{bmatrix} 1 & 0 \\\\ 0 & 0 \\end{bmatrix}, \\quad \\text{rref}(A^T) = \\begin{bmatrix} 1 & 0 \\\\ 0 & 0 \\end{bmatrix}$.\n",
    "- Note row substitution echelon form of $A^T$ \n",
    "- However, $R^T = \\begin{bmatrix} 1 & 0 \\\\ 0 & 0 \\end{bmatrix} \\neq \\text{rref}(A^T)$.  \n"
   ]
  },
  {
   "cell_type": "markdown",
   "id": "f8c1e2ac-6df0-40bf-a424-9f1abaf5ac52",
   "metadata": {},
   "source": [
    "28."
   ]
  },
  {
   "cell_type": "markdown",
   "id": "cb78aca3-b9b5-404e-8ce7-534751ac5333",
   "metadata": {},
   "source": [
    "$A$ and $-A$ always have the same reduced row echelon form $R$ because row reduction operations depend only on the linear dependencies between rows and columns, not on the signs of the entries. Therefore, $A$ and $-A$ also share the same null space, as the null space is determined by the pivot structure of the matrix."
   ]
  },
  {
   "cell_type": "markdown",
   "id": "4a970632-9a05-42d3-bf9a-aabbcfadc845",
   "metadata": {},
   "source": [
    "30."
   ]
  },
  {
   "cell_type": "markdown",
   "id": "34a106ca-aff9-4c4e-8086-006fd75a03a4",
   "metadata": {},
   "source": [
    "The null space of $C = \\begin{bmatrix} A \\\\ B \\end{bmatrix}$ is the intersection of the null spaces of $A$ and $B$. \n",
    "\n",
    "\n",
    "$$\n",
    "N(C) = N(A) \\cap N(B).\n",
    "$$\n",
    "\n",
    "This is because any vector $x$ in $N(C)$ must satisfy both $Ax = 0$ and $Bx = 0 simultaneously.\n"
   ]
  },
  {
   "cell_type": "markdown",
   "id": "34a65d64-99fc-40c0-a93b-e1a1ed2f3441",
   "metadata": {},
   "source": [
    "36."
   ]
  },
  {
   "cell_type": "markdown",
   "id": "c6b26e68-5d68-405b-a64f-6654497f4e00",
   "metadata": {},
   "source": []
  }
 ],
 "metadata": {
  "kernelspec": {
   "display_name": "Python (venv)",
   "language": "python",
   "name": "venv"
  },
  "language_info": {
   "codemirror_mode": {
    "name": "ipython",
    "version": 3
   },
   "file_extension": ".py",
   "mimetype": "text/x-python",
   "name": "python",
   "nbconvert_exporter": "python",
   "pygments_lexer": "ipython3",
   "version": "3.13.0"
  }
 },
 "nbformat": 4,
 "nbformat_minor": 5
}
