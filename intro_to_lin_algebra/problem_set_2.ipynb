{
 "cells": [
  {
   "cell_type": "markdown",
   "id": "e9373f1a-c2cf-45d2-8e5a-4a6b8dc2854c",
   "metadata": {},
   "source": [
    "# Problem Set 2"
   ]
  },
  {
   "cell_type": "markdown",
   "id": "9d4da5a0-0296-4e98-8018-1d4a4aa3414b",
   "metadata": {},
   "source": [
    "## 2.5"
   ]
  },
  {
   "cell_type": "markdown",
   "id": "57df79cd-50af-4339-8ff8-589c500da6f9",
   "metadata": {},
   "source": [
    "24."
   ]
  },
  {
   "cell_type": "markdown",
   "id": "8c364dd5-f65c-4071-b10b-f0b86211631c",
   "metadata": {},
   "source": [
    "The inverse of:\n",
    "\\begin{bmatrix}\n",
    "1 & a & b \\\\\n",
    "0 & 1 & c \\\\\n",
    "0 & 0 & 1\n",
    "\\end{bmatrix}\n",
    "\n",
    "is:\n",
    "\\begin{bmatrix}\n",
    "1 & -a & ac-b \\\\\n",
    "0 & 1 & -c \\\\\n",
    "0 & 0 & 1\n",
    "\\end{bmatrix}"
   ]
  },
  {
   "cell_type": "markdown",
   "id": "f034ecc5-a0e7-4367-8b8d-1832382f45d5",
   "metadata": {},
   "source": [
    "## 2.6"
   ]
  },
  {
   "cell_type": "markdown",
   "id": "bcf008a6-55d5-49bb-a992-cdfd19fe184a",
   "metadata": {},
   "source": [
    "6."
   ]
  },
  {
   "cell_type": "markdown",
   "id": "650a132e-1b6d-4a61-8887-c96048c5cb4a",
   "metadata": {},
   "source": [
    "$E_{21}=$\n",
    "\\begin{bmatrix}\n",
    "1 & 0 & 0 \\\\\n",
    "-2 & 1 & 0 \\\\\n",
    "0 & 0 & 1\n",
    "\\end{bmatrix}\n",
    "\n",
    "$E_{32}=$\n",
    "\\begin{bmatrix}\n",
    "1 & 0 & 0 \\\\\n",
    "0 & 1 & 0 \\\\\n",
    "0 & -1 & 1\n",
    "\\end{bmatrix}\n",
    "\n",
    "$E_{21}^{-1}$ = \n",
    "\\begin{bmatrix}\n",
    "1 & 0 & 0 \\\\\n",
    "2 & 1 & 0 \\\\\n",
    "0 & 0 & 1\n",
    "\\end{bmatrix}\n",
    "\n",
    "$E_{32}^{-1}=$\n",
    "\\begin{bmatrix}\n",
    "1 & 0 & 0 \\\\\n",
    "0 & 1 & 0 \\\\\n",
    "0 & 1 & 1\n",
    "\\end{bmatrix}\n",
    "\n",
    "$E_{21}^{-1}E_{32}^{-1}=L=$\n",
    "\\begin{bmatrix}\n",
    "1 & 0 & 0 \\\\\n",
    "2 & 1 & 0 \\\\\n",
    "0 & 1 & 1\n",
    "\\end{bmatrix}\n",
    "\n",
    "$U=$\n",
    "\\begin{bmatrix}\n",
    "1 & 1 & 1 \\\\\n",
    "0 & 2 & 3 \\\\\n",
    "0 & 0 & -6\n",
    "\\end{bmatrix}"
   ]
  },
  {
   "cell_type": "markdown",
   "id": "24af8848-d4e5-4f47-9c3f-dfd15b65e85f",
   "metadata": {},
   "source": [
    "13."
   ]
  },
  {
   "cell_type": "markdown",
   "id": "fcd08170-4f48-4245-92d6-77cdbadefdd4",
   "metadata": {},
   "source": [
    "$L=$\n",
    "\\begin{bmatrix}\n",
    "1 & 0 & 0 & 0 \\\\\n",
    "1 & 1 & 0 & 0 \\\\\n",
    "1 & 1 & 1 & 0 \\\\\n",
    "1 & 1 & 1 & 1\n",
    "\\end{bmatrix}\n",
    "\n",
    "$U=$\n",
    "\\begin{bmatrix}\n",
    "a & a & a & a \\\\\n",
    "0 & b-a & b-a & b-a \\\\\n",
    "0 & 0 & c-b & c-b \\\\\n",
    "0 & 0 & 0 & d-c\n",
    "\\end{bmatrix}"
   ]
  },
  {
   "cell_type": "markdown",
   "id": "aa22a0a3-78cb-47c9-ab76-110f8218c91c",
   "metadata": {},
   "source": [
    "16."
   ]
  },
  {
   "cell_type": "markdown",
   "id": "c0768431-e2d6-4772-a69b-74a56204850c",
   "metadata": {},
   "source": [
    "$c=$\n",
    "\\begin{bmatrix}\n",
    "4 \\\\\n",
    "1 \\\\\n",
    "1\n",
    "\\end{bmatrix}\n",
    "\n",
    "$x=$\n",
    "\\begin{bmatrix}\n",
    "3 \\\\\n",
    "0 \\\\\n",
    "1\n",
    "\\end{bmatrix}"
   ]
  },
  {
   "cell_type": "markdown",
   "id": "296eb5cb-0ac0-467a-9d17-fdf73b9761aa",
   "metadata": {},
   "source": [
    "18."
   ]
  },
  {
   "cell_type": "markdown",
   "id": "3ee1be1f-54e1-4bde-9763-8ac05c5819fe",
   "metadata": {},
   "source": [
    "### Explanation of Factorization Uniqueness\n",
    "\n",
    "When a matrix $A$ has two factorizations:\n",
    "$$\n",
    "A = LDU \\quad \\text{and} \\quad A = L_1D_1U_1,\n",
    "$$\n",
    "where $L, L_1$ are lower triangular with $1$'s on the diagonal, $D, D_1$ are diagonal, and $U, U_1$ are upper triangular, the equation\n",
    "\n",
    "$L_1^{-1} L D = D_1 U_1 U^{-1}$\n",
    "can be derived by multiplying both factorizations to isolate $L, D$, and $U$.\n",
    "\n",
    "### Key Observations\n",
    "1. $L_1^{-1} L$ is **lower triangular**.\n",
    "2. $U_1 U^{-1}$ is **upper triangular**.\n",
    "3. The product $L_1^{-1} L D = D_1 U_1 U^{-1}$ is diagonal, as a matrix that is both lower triangular and upper triangular must be diagonal.\n",
    "\n",
    "### Uniqueness of Factors\n",
    "From the diagonal equality:\n",
    "$$\n",
    "L_1^{-1} L = I, \\quad U_1 U^{-1} = I, \\quad D = D_1,\n",
    "$$\n",
    "we deduce:\n",
    "$$\n",
    "L = L_1, \\quad U = U_1, \\quad D = D_1.\n",
    "$$\n",
    "\n",
    "Thus, the $LDU$-factorization is **unique** when normalized (i.e., $L$ and $U$ have $1$'s on their diagonals).\n",
    "\n",
    "### Structure of $L, D$, and $U$\n",
    "- $L$: Lower triangular, with $1$'s on the diagonal and multipliers below.\n",
    "- $D$: Diagonal matrix containing pivot values.\n",
    "- $U$: Upper triangular, with $1$'s on the diagonal (normalized) or pivots (non-normalized).\n",
    "\n",
    "Essentially, no matter how you choose to represent $LDU$ (potentially all pivots are in $D$ or maybe only some are and the rest are in $L$ and $U$, they all still will result in $A$)\n"
   ]
  },
  {
   "cell_type": "markdown",
   "id": "e5963421-bd88-4113-a343-3f7a5c68bd5a",
   "metadata": {},
   "source": [
    "21"
   ]
  },
  {
   "cell_type": "markdown",
   "id": "a7356b1f-8802-4973-b847-96ff4d228080",
   "metadata": {},
   "source": [
    "Matrix $A$:\n",
    "$L$ preserves the zeroes in $A_{31}$, $A_{41}$ and $A_{42}$.\n",
    "\n",
    "$U$ might not preserve a zero in $A_{14}$ based on the values of $A$.\n",
    "\n",
    "Matrix $B$:\n",
    "$L$ preserves the zero in $B_{41}$.\n",
    "\n",
    "$U$ preserves the zero in $B_{14}$.\n",
    "\n",
    "The other zeroes are filled in during elimnation."
   ]
  },
  {
   "cell_type": "markdown",
   "id": "3725b053-c4de-47f7-9537-33ad5d37080a",
   "metadata": {},
   "source": [
    "## 2.7"
   ]
  },
  {
   "cell_type": "markdown",
   "id": "09f20df9-770a-4fa0-a022-969d3b9c2201",
   "metadata": {},
   "source": [
    "4."
   ]
  },
  {
   "cell_type": "markdown",
   "id": "a6298a03-a4bd-4c23-a697-2db19be46afb",
   "metadata": {},
   "source": [
    "If $A=$\n",
    "\\begin{bmatrix}\n",
    "0 & 1 \\\\\n",
    "-1 & 0\n",
    "\\end{bmatrix}\n",
    "\n",
    "$A_{2}=0$\n",
    "\n",
    "The rows of $A_{T}$ are the columns of $A$, therefore $A_{T}A$ involves dot products between the rows and columns of $A$. For $A_{T}A=0$, the dot product of every row of $A_{T}$ with every column of $A$ must equal 0 meanign that every column of $A$ must be orthogonal to all rows of $A$. The diagonal entries of the result matrix are the dot products of columns of $A$ with itself. Since dot products of a vector with itself are always non-negative and only zero when the vector is zero, any non-zero column in $A$ would result in a positive diagnonal entry."
   ]
  },
  {
   "cell_type": "markdown",
   "id": "c97e10b5-cf38-47be-8fc0-9251736fffed",
   "metadata": {},
   "source": [
    "8."
   ]
  },
  {
   "cell_type": "markdown",
   "id": "bc13ea23-b64c-4fbb-baf6-fa42bd1d33f4",
   "metadata": {},
   "source": [
    "For an $n x n$ permutation matrix, the $1$ in the first row can go in $n$ positions, the second in $n-1$ positions, the third row $n-2$ and so on. Thus there are $n!$ unique arrangements."
   ]
  },
  {
   "cell_type": "markdown",
   "id": "c456eef8-ab60-4330-83a7-d2314be2929c",
   "metadata": {},
   "source": [
    "13."
   ]
  },
  {
   "cell_type": "markdown",
   "id": "af2617d5-67b5-4357-83b3-113b96a78a23",
   "metadata": {},
   "source": [
    "a. $P=$\n",
    "\\begin{bmatrix}\n",
    "0 & 1 & 0 \\\\\n",
    "0 & 0 & 1 \\\\\n",
    "1 & 0 & 0\n",
    "\\end{bmatrix}\n",
    "\n",
    "b. $P=$\n",
    "\\begin{bmatrix}\n",
    "0 & 1 & 0 & 0 \\\\\n",
    "0 & 0 & 1 & 0 \\\\\n",
    "1 & 0 & 0 & 0 \\\\\n",
    "0 & 0 & 0 & 1\n",
    "\\end{bmatrix}"
   ]
  },
  {
   "cell_type": "markdown",
   "id": "a9f87f62-eb8d-4652-b427-9dd80cdd67bf",
   "metadata": {},
   "source": [
    "15."
   ]
  },
  {
   "cell_type": "markdown",
   "id": "ca507872-313c-4602-aedb-6d346e2f165c",
   "metadata": {},
   "source": [
    "a. If $P$ sends row 1 to row 4, then $P_{T}$ sends row 4 to row 1. When $P_{T}=P$, the row exchanges come in pairs with no overlap, meaning: row 1 exchanges with row 4, row 2 exchanges with row 3.\n",
    "\n",
    "b. $P=$\n",
    "\\begin{bmatrix}\n",
    "0 & 0 & 0 & 1 \\\\\n",
    "0 & 0 & 1 & 0 \\\\\n",
    "0 & 1 & 0 & 0 \\\\\n",
    "1 & 0 & 0 & 0\n",
    "\\end{bmatrix}\n"
   ]
  },
  {
   "cell_type": "markdown",
   "id": "5042f73a-28b6-42a6-a35c-d43440304dd0",
   "metadata": {},
   "source": [
    "36. "
   ]
  },
  {
   "cell_type": "markdown",
   "id": "13449ab2-6d42-43dc-8461-a38477c920a1",
   "metadata": {},
   "source": [
    "If $B$ is a northwest matrix, its transpose will $B_{T}$ is a southeast matrix, the nonzero entries shift across the diagonal.\n",
    "\n",
    "$B_{2}$ will generally lose the northwest structure as new entires may be added along the anti-diagonal due to the row-col interactions.\n",
    "\n",
    "$B_{-1}$ will not maintain northwest structure.\n",
    "\n",
    "$BC$ will typically produce a matrix entirely filled with non-zero entries, breaking both northwest and southeast pattern."
   ]
  },
  {
   "cell_type": "markdown",
   "id": "c3abf663-e80e-4c49-88f6-e27dfa3a52f1",
   "metadata": {},
   "source": [
    "## 3.1"
   ]
  },
  {
   "cell_type": "markdown",
   "id": "8ea2bded-a1cd-4b71-9bb7-9eaebe988e9b",
   "metadata": {},
   "source": [
    "3."
   ]
  },
  {
   "cell_type": "markdown",
   "id": "7527d95a-2a08-428c-aab7-70717c3cb091",
   "metadata": {},
   "source": [
    "a.\n",
    "Rules 3 (existence of a zero vector) and 4 (existence of a unique additive inverse, $-x$) are violated. Scalar multiplication also isn't always valid ($x * -1$).\n",
    "\n",
    "b.\n",
    "In the redefined operations where $x + y = xy$, the 'zero vector' is now $1$."
   ]
  },
  {
   "cell_type": "markdown",
   "id": "3b75ba5f-6833-4d65-83e5-0c510e043dea",
   "metadata": {},
   "source": [
    "9."
   ]
  },
  {
   "cell_type": "markdown",
   "id": "87d00604-ea5f-4f16-b011-38089e682650",
   "metadata": {},
   "source": [
    "a.\n",
    "Restrict the column space to integers only. Scalar multiplication is not closed by multiplying by non-integer scalars.\n",
    "\n",
    "b.\n",
    "Restrict columns space to the y-axis only e.g. set only contains vectors with zero $x$ components. Addition is not closed by adding a vector with a non-zero $x$ component."
   ]
  },
  {
   "cell_type": "markdown",
   "id": "12657972-f36b-4f2b-8b8e-fa6430cefc59",
   "metadata": {},
   "source": [
    "18."
   ]
  },
  {
   "cell_type": "markdown",
   "id": "784e356c-ab1e-48a9-9f7d-0fcd27355179",
   "metadata": {},
   "source": [
    "a. True\n",
    "\n",
    "b. True\n",
    "\n",
    "c. False"
   ]
  },
  {
   "cell_type": "markdown",
   "id": "23789df9-7582-4c03-a807-808c4823ff48",
   "metadata": {},
   "source": [
    "23."
   ]
  },
  {
   "cell_type": "markdown",
   "id": "4ee2fa2c-f124-405c-92cf-767a8924642c",
   "metadata": {},
   "source": [
    "The column does not get larger if the new column is already a linear combination of the existing columns (e.g. it is linearly dependent).\n",
    "\n",
    "Consider matrix $A$:\n",
    "\\begin{bmatrix}\n",
    "1 & 0 \\\\\n",
    "0 & 1\n",
    "\\end{bmatrix}\n",
    "\n",
    "New linearly dependent column:\n",
    "\\begin{bmatrix}\n",
    "1 \\\\\n",
    "0\n",
    "\\end{bmatrix}\n",
    "\n",
    "New linearly independent column:\n",
    "\\begin{bmatrix}\n",
    "1 \\\\\n",
    "2\n",
    "\\end{bmatrix}\n",
    "\n",
    "For $Ax=b$, if $b$ is already in the column space, adding a new column, whether independent or dependent, does not impact the solvability of the system. If $b$ is not in the column space, addition of a new column does not make it retroactively solvable. \n",
    "\n"
   ]
  },
  {
   "cell_type": "markdown",
   "id": "4710a451-26c4-43dc-928a-c341cdcae5ac",
   "metadata": {},
   "source": [
    "29."
   ]
  },
  {
   "cell_type": "markdown",
   "id": "47f4ef3e-cd7f-4939-b53e-759618ae7851",
   "metadata": {},
   "source": [
    "$\\mathbf{C}(A) = \\mathbb{R}^9$"
   ]
  },
  {
   "cell_type": "markdown",
   "id": "c263acf0-17ac-49f9-b72a-919e6598407e",
   "metadata": {},
   "source": [
    "32."
   ]
  },
  {
   "cell_type": "markdown",
   "id": "85941ddc-e171-4cf8-8b38-b8ba544c3bb0",
   "metadata": {},
   "source": [
    "If the new columns of $B$ are just linear combinations of $A$, $[A \\ AB]$ would have the same column spaces as the columns of $B$ are not adding anything 'new' to the column space.\n",
    "\n",
    "If $A$=\n",
    "\\begin{bmatrix}\n",
    "0 & 1 \\\\\n",
    "0 & 0\n",
    "\\end{bmatrix}\n",
    "\n",
    "$A_{2}$=\n",
    "\\begin{bmatrix}\n",
    "0 & 0 \\\\\n",
    "0 & 0\n",
    "\\end{bmatrix}\n",
    "\n",
    "And will have a smaller column space than $A$"
   ]
  }
 ],
 "metadata": {
  "kernelspec": {
   "display_name": "Python (venv)",
   "language": "python",
   "name": "venv"
  },
  "language_info": {
   "codemirror_mode": {
    "name": "ipython",
    "version": 3
   },
   "file_extension": ".py",
   "mimetype": "text/x-python",
   "name": "python",
   "nbconvert_exporter": "python",
   "pygments_lexer": "ipython3",
   "version": "3.13.0"
  }
 },
 "nbformat": 4,
 "nbformat_minor": 5
}
