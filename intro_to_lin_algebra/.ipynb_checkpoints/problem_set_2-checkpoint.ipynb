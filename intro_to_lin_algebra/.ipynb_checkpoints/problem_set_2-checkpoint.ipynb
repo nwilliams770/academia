{
 "cells": [
  {
   "cell_type": "markdown",
   "id": "e9373f1a-c2cf-45d2-8e5a-4a6b8dc2854c",
   "metadata": {},
   "source": [
    "# Problem Set 2"
   ]
  },
  {
   "cell_type": "markdown",
   "id": "9d4da5a0-0296-4e98-8018-1d4a4aa3414b",
   "metadata": {},
   "source": [
    "## 2.5"
   ]
  },
  {
   "cell_type": "markdown",
   "id": "57df79cd-50af-4339-8ff8-589c500da6f9",
   "metadata": {},
   "source": [
    "12."
   ]
  },
  {
   "cell_type": "markdown",
   "id": "8c364dd5-f65c-4071-b10b-f0b86211631c",
   "metadata": {},
   "source": []
  },
  {
   "cell_type": "markdown",
   "id": "cf514d7e-215c-456d-94b7-903ef1fc38f9",
   "metadata": {},
   "source": []
  },
  {
   "cell_type": "markdown",
   "id": "b7e64a45-7a15-447c-b55c-372820fb9993",
   "metadata": {},
   "source": []
  },
  {
   "cell_type": "markdown",
   "id": "f7fd3ced-b782-47ce-9722-f300c1ab1470",
   "metadata": {},
   "source": []
  }
 ],
 "metadata": {
  "kernelspec": {
   "display_name": "Python (venv)",
   "language": "python",
   "name": "venv"
  },
  "language_info": {
   "codemirror_mode": {
    "name": "ipython",
    "version": 3
   },
   "file_extension": ".py",
   "mimetype": "text/x-python",
   "name": "python",
   "nbconvert_exporter": "python",
   "pygments_lexer": "ipython3",
   "version": "3.13.0"
  }
 },
 "nbformat": 4,
 "nbformat_minor": 5
}
